{
 "cells": [
  {
   "cell_type": "code",
   "execution_count": 1,
   "metadata": {
    "id": "642bSOecxDcf"
   },
   "outputs": [],
   "source": [
    "import tensorflow as tf\n",
    "import numpy as np\n",
    "import pandas as pd\n",
    "\n",
    "from sklearn import preprocessing\n",
    "from sklearn.model_selection import train_test_split\n",
    "from sklearn.metrics import mean_squared_error"
   ]
  },
  {
   "cell_type": "code",
   "execution_count": 2,
   "metadata": {
    "id": "Jbg2rb79xFKi"
   },
   "outputs": [],
   "source": [
    "df = pd.read_csv('HousingData.csv')"
   ]
  },
  {
   "cell_type": "code",
   "execution_count": 3,
   "metadata": {
    "colab": {
     "base_uri": "https://localhost:8080/",
     "height": 363
    },
    "id": "JHep43E-x7kk",
    "outputId": "94647457-9538-4b1d-9757-eaf32084cced"
   },
   "outputs": [
    {
     "data": {
      "text/html": [
       "<div>\n",
       "<style scoped>\n",
       "    .dataframe tbody tr th:only-of-type {\n",
       "        vertical-align: middle;\n",
       "    }\n",
       "\n",
       "    .dataframe tbody tr th {\n",
       "        vertical-align: top;\n",
       "    }\n",
       "\n",
       "    .dataframe thead th {\n",
       "        text-align: right;\n",
       "    }\n",
       "</style>\n",
       "<table border=\"1\" class=\"dataframe\">\n",
       "  <thead>\n",
       "    <tr style=\"text-align: right;\">\n",
       "      <th></th>\n",
       "      <th>CRIM</th>\n",
       "      <th>ZN</th>\n",
       "      <th>INDUS</th>\n",
       "      <th>CHAS</th>\n",
       "      <th>NOX</th>\n",
       "      <th>RM</th>\n",
       "      <th>AGE</th>\n",
       "      <th>DIS</th>\n",
       "      <th>RAD</th>\n",
       "      <th>TAX</th>\n",
       "      <th>PTRATIO</th>\n",
       "      <th>B</th>\n",
       "      <th>LSTAT</th>\n",
       "      <th>MEDV</th>\n",
       "    </tr>\n",
       "  </thead>\n",
       "  <tbody>\n",
       "    <tr>\n",
       "      <th>0</th>\n",
       "      <td>0.00632</td>\n",
       "      <td>18.0</td>\n",
       "      <td>2.31</td>\n",
       "      <td>0.0</td>\n",
       "      <td>0.538</td>\n",
       "      <td>6.575</td>\n",
       "      <td>65.2</td>\n",
       "      <td>4.0900</td>\n",
       "      <td>1</td>\n",
       "      <td>296</td>\n",
       "      <td>15.3</td>\n",
       "      <td>396.90</td>\n",
       "      <td>4.98</td>\n",
       "      <td>24.0</td>\n",
       "    </tr>\n",
       "    <tr>\n",
       "      <th>1</th>\n",
       "      <td>0.02731</td>\n",
       "      <td>0.0</td>\n",
       "      <td>7.07</td>\n",
       "      <td>0.0</td>\n",
       "      <td>0.469</td>\n",
       "      <td>6.421</td>\n",
       "      <td>78.9</td>\n",
       "      <td>4.9671</td>\n",
       "      <td>2</td>\n",
       "      <td>242</td>\n",
       "      <td>17.8</td>\n",
       "      <td>396.90</td>\n",
       "      <td>9.14</td>\n",
       "      <td>21.6</td>\n",
       "    </tr>\n",
       "    <tr>\n",
       "      <th>2</th>\n",
       "      <td>0.02729</td>\n",
       "      <td>0.0</td>\n",
       "      <td>7.07</td>\n",
       "      <td>0.0</td>\n",
       "      <td>0.469</td>\n",
       "      <td>7.185</td>\n",
       "      <td>61.1</td>\n",
       "      <td>4.9671</td>\n",
       "      <td>2</td>\n",
       "      <td>242</td>\n",
       "      <td>17.8</td>\n",
       "      <td>392.83</td>\n",
       "      <td>4.03</td>\n",
       "      <td>34.7</td>\n",
       "    </tr>\n",
       "    <tr>\n",
       "      <th>3</th>\n",
       "      <td>0.03237</td>\n",
       "      <td>0.0</td>\n",
       "      <td>2.18</td>\n",
       "      <td>0.0</td>\n",
       "      <td>0.458</td>\n",
       "      <td>6.998</td>\n",
       "      <td>45.8</td>\n",
       "      <td>6.0622</td>\n",
       "      <td>3</td>\n",
       "      <td>222</td>\n",
       "      <td>18.7</td>\n",
       "      <td>394.63</td>\n",
       "      <td>2.94</td>\n",
       "      <td>33.4</td>\n",
       "    </tr>\n",
       "    <tr>\n",
       "      <th>4</th>\n",
       "      <td>0.06905</td>\n",
       "      <td>0.0</td>\n",
       "      <td>2.18</td>\n",
       "      <td>0.0</td>\n",
       "      <td>0.458</td>\n",
       "      <td>7.147</td>\n",
       "      <td>54.2</td>\n",
       "      <td>6.0622</td>\n",
       "      <td>3</td>\n",
       "      <td>222</td>\n",
       "      <td>18.7</td>\n",
       "      <td>396.90</td>\n",
       "      <td>NaN</td>\n",
       "      <td>36.2</td>\n",
       "    </tr>\n",
       "    <tr>\n",
       "      <th>5</th>\n",
       "      <td>0.02985</td>\n",
       "      <td>0.0</td>\n",
       "      <td>2.18</td>\n",
       "      <td>0.0</td>\n",
       "      <td>0.458</td>\n",
       "      <td>6.430</td>\n",
       "      <td>58.7</td>\n",
       "      <td>6.0622</td>\n",
       "      <td>3</td>\n",
       "      <td>222</td>\n",
       "      <td>18.7</td>\n",
       "      <td>394.12</td>\n",
       "      <td>5.21</td>\n",
       "      <td>28.7</td>\n",
       "    </tr>\n",
       "    <tr>\n",
       "      <th>6</th>\n",
       "      <td>0.08829</td>\n",
       "      <td>12.5</td>\n",
       "      <td>7.87</td>\n",
       "      <td>NaN</td>\n",
       "      <td>0.524</td>\n",
       "      <td>6.012</td>\n",
       "      <td>66.6</td>\n",
       "      <td>5.5605</td>\n",
       "      <td>5</td>\n",
       "      <td>311</td>\n",
       "      <td>15.2</td>\n",
       "      <td>395.60</td>\n",
       "      <td>12.43</td>\n",
       "      <td>22.9</td>\n",
       "    </tr>\n",
       "    <tr>\n",
       "      <th>7</th>\n",
       "      <td>0.14455</td>\n",
       "      <td>12.5</td>\n",
       "      <td>7.87</td>\n",
       "      <td>0.0</td>\n",
       "      <td>0.524</td>\n",
       "      <td>6.172</td>\n",
       "      <td>96.1</td>\n",
       "      <td>5.9505</td>\n",
       "      <td>5</td>\n",
       "      <td>311</td>\n",
       "      <td>15.2</td>\n",
       "      <td>396.90</td>\n",
       "      <td>19.15</td>\n",
       "      <td>27.1</td>\n",
       "    </tr>\n",
       "    <tr>\n",
       "      <th>8</th>\n",
       "      <td>0.21124</td>\n",
       "      <td>12.5</td>\n",
       "      <td>7.87</td>\n",
       "      <td>0.0</td>\n",
       "      <td>0.524</td>\n",
       "      <td>5.631</td>\n",
       "      <td>100.0</td>\n",
       "      <td>6.0821</td>\n",
       "      <td>5</td>\n",
       "      <td>311</td>\n",
       "      <td>15.2</td>\n",
       "      <td>386.63</td>\n",
       "      <td>29.93</td>\n",
       "      <td>16.5</td>\n",
       "    </tr>\n",
       "    <tr>\n",
       "      <th>9</th>\n",
       "      <td>0.17004</td>\n",
       "      <td>12.5</td>\n",
       "      <td>7.87</td>\n",
       "      <td>NaN</td>\n",
       "      <td>0.524</td>\n",
       "      <td>6.004</td>\n",
       "      <td>85.9</td>\n",
       "      <td>6.5921</td>\n",
       "      <td>5</td>\n",
       "      <td>311</td>\n",
       "      <td>15.2</td>\n",
       "      <td>386.71</td>\n",
       "      <td>17.10</td>\n",
       "      <td>18.9</td>\n",
       "    </tr>\n",
       "  </tbody>\n",
       "</table>\n",
       "</div>"
      ],
      "text/plain": [
       "      CRIM    ZN  INDUS  CHAS    NOX     RM    AGE     DIS  RAD  TAX  PTRATIO  \\\n",
       "0  0.00632  18.0   2.31   0.0  0.538  6.575   65.2  4.0900    1  296     15.3   \n",
       "1  0.02731   0.0   7.07   0.0  0.469  6.421   78.9  4.9671    2  242     17.8   \n",
       "2  0.02729   0.0   7.07   0.0  0.469  7.185   61.1  4.9671    2  242     17.8   \n",
       "3  0.03237   0.0   2.18   0.0  0.458  6.998   45.8  6.0622    3  222     18.7   \n",
       "4  0.06905   0.0   2.18   0.0  0.458  7.147   54.2  6.0622    3  222     18.7   \n",
       "5  0.02985   0.0   2.18   0.0  0.458  6.430   58.7  6.0622    3  222     18.7   \n",
       "6  0.08829  12.5   7.87   NaN  0.524  6.012   66.6  5.5605    5  311     15.2   \n",
       "7  0.14455  12.5   7.87   0.0  0.524  6.172   96.1  5.9505    5  311     15.2   \n",
       "8  0.21124  12.5   7.87   0.0  0.524  5.631  100.0  6.0821    5  311     15.2   \n",
       "9  0.17004  12.5   7.87   NaN  0.524  6.004   85.9  6.5921    5  311     15.2   \n",
       "\n",
       "        B  LSTAT  MEDV  \n",
       "0  396.90   4.98  24.0  \n",
       "1  396.90   9.14  21.6  \n",
       "2  392.83   4.03  34.7  \n",
       "3  394.63   2.94  33.4  \n",
       "4  396.90    NaN  36.2  \n",
       "5  394.12   5.21  28.7  \n",
       "6  395.60  12.43  22.9  \n",
       "7  396.90  19.15  27.1  \n",
       "8  386.63  29.93  16.5  \n",
       "9  386.71  17.10  18.9  "
      ]
     },
     "execution_count": 3,
     "metadata": {},
     "output_type": "execute_result"
    }
   ],
   "source": [
    "df.head(10)"
   ]
  },
  {
   "cell_type": "code",
   "execution_count": 4,
   "metadata": {
    "colab": {
     "base_uri": "https://localhost:8080/"
    },
    "id": "eK_JRSl03_wj",
    "outputId": "39bca078-2b2d-42ba-adfa-af3f61797a72"
   },
   "outputs": [
    {
     "data": {
      "text/plain": [
       "CRIM       20\n",
       "ZN         20\n",
       "INDUS      20\n",
       "CHAS       20\n",
       "NOX         0\n",
       "RM          0\n",
       "AGE        20\n",
       "DIS         0\n",
       "RAD         0\n",
       "TAX         0\n",
       "PTRATIO     0\n",
       "B           0\n",
       "LSTAT      20\n",
       "MEDV        0\n",
       "dtype: int64"
      ]
     },
     "execution_count": 4,
     "metadata": {},
     "output_type": "execute_result"
    }
   ],
   "source": [
    "df.isnull().sum()"
   ]
  },
  {
   "cell_type": "code",
   "execution_count": 5,
   "metadata": {
    "id": "Afpk5CC0y9b9"
   },
   "outputs": [],
   "source": [
    "df = df.fillna(df.mean())"
   ]
  },
  {
   "cell_type": "code",
   "execution_count": 6,
   "metadata": {
    "colab": {
     "base_uri": "https://localhost:8080/"
    },
    "id": "leDzLvIQzAMl",
    "outputId": "cc2bc552-bb4f-4863-8d0d-b112c59cb009"
   },
   "outputs": [
    {
     "data": {
      "text/plain": [
       "CRIM       0\n",
       "ZN         0\n",
       "INDUS      0\n",
       "CHAS       0\n",
       "NOX        0\n",
       "RM         0\n",
       "AGE        0\n",
       "DIS        0\n",
       "RAD        0\n",
       "TAX        0\n",
       "PTRATIO    0\n",
       "B          0\n",
       "LSTAT      0\n",
       "MEDV       0\n",
       "dtype: int64"
      ]
     },
     "execution_count": 6,
     "metadata": {},
     "output_type": "execute_result"
    }
   ],
   "source": [
    "df.isnull().sum()"
   ]
  },
  {
   "cell_type": "code",
   "execution_count": 7,
   "metadata": {
    "id": "lldSDwHh3WzH"
   },
   "outputs": [],
   "source": [
    "from sklearn.model_selection import train_test_split\n",
    "\n",
    "X = df.loc[:, df.columns != 'MEDV']\n",
    "y = df.loc[:, df.columns == 'MEDV']\n",
    "X_train, X_test, y_train, y_test = train_test_split(X, y, test_size=0.3, random_state=123)"
   ]
  },
  {
   "cell_type": "code",
   "execution_count": 8,
   "metadata": {
    "colab": {
     "base_uri": "https://localhost:8080/"
    },
    "id": "yq5NjVaQy5GG",
    "outputId": "171cebbc-38bc-44b9-8348-b8caf52f2f47"
   },
   "outputs": [
    {
     "name": "stdout",
     "output_type": "stream",
     "text": [
      "Model: \"sequential\"\n",
      "_________________________________________________________________\n",
      " Layer (type)                Output Shape              Param #   \n",
      "=================================================================\n",
      " dense_1 (Dense)             (None, 128)               1792      \n",
      "                                                                 \n",
      " dense_2 (Dense)             (None, 64)                8256      \n",
      "                                                                 \n",
      " dense_output (Dense)        (None, 1)                 65        \n",
      "                                                                 \n",
      "=================================================================\n",
      "Total params: 10,113\n",
      "Trainable params: 10,113\n",
      "Non-trainable params: 0\n",
      "_________________________________________________________________\n"
     ]
    }
   ],
   "source": [
    "from keras.models import Sequential\n",
    "from keras.layers import Dense\n",
    "\n",
    "model = Sequential()\n",
    "\n",
    "model.add(Dense(128, input_shape=(13, ), activation='relu', name='dense_1'))\n",
    "model.add(Dense(64, activation='relu', name='dense_2'))\n",
    "model.add(Dense(1, activation='linear', name='dense_output'))\n",
    "\n",
    "model.compile(optimizer='adam', loss='mse', metrics=['mae'])\n",
    "model.summary()"
   ]
  },
  {
   "cell_type": "code",
   "execution_count": 9,
   "metadata": {
    "colab": {
     "base_uri": "https://localhost:8080/"
    },
    "id": "OiP4Pyxcy7Ag",
    "outputId": "c300130c-1f42-42d3-a51f-6fa3f3da3051"
   },
   "outputs": [
    {
     "name": "stdout",
     "output_type": "stream",
     "text": [
      "Epoch 1/100\n",
      "11/11 [==============================] - 3s 68ms/step - loss: 372.7351 - mae: 14.7055 - val_loss: 222.8705 - val_mae: 14.2665\n",
      "Epoch 2/100\n",
      "11/11 [==============================] - 0s 17ms/step - loss: 163.5227 - mae: 10.0122 - val_loss: 153.0966 - val_mae: 11.8476\n",
      "Epoch 3/100\n",
      "11/11 [==============================] - 0s 13ms/step - loss: 108.4292 - mae: 8.0869 - val_loss: 86.0263 - val_mae: 5.6833\n",
      "Epoch 4/100\n",
      "11/11 [==============================] - 0s 18ms/step - loss: 71.1403 - mae: 6.1706 - val_loss: 106.7637 - val_mae: 6.8575\n",
      "Epoch 5/100\n",
      "11/11 [==============================] - 0s 15ms/step - loss: 70.3513 - mae: 6.2342 - val_loss: 89.7911 - val_mae: 6.5545\n",
      "Epoch 6/100\n",
      "11/11 [==============================] - 0s 19ms/step - loss: 58.8907 - mae: 5.4021 - val_loss: 83.8387 - val_mae: 6.2933\n",
      "Epoch 7/100\n",
      "11/11 [==============================] - 0s 13ms/step - loss: 58.6341 - mae: 5.6424 - val_loss: 101.7088 - val_mae: 6.4491\n",
      "Epoch 8/100\n",
      "11/11 [==============================] - 0s 16ms/step - loss: 67.5157 - mae: 5.9934 - val_loss: 105.6269 - val_mae: 6.3910\n",
      "Epoch 9/100\n",
      "11/11 [==============================] - 0s 13ms/step - loss: 63.7755 - mae: 5.6566 - val_loss: 95.6513 - val_mae: 6.3709\n",
      "Epoch 10/100\n",
      "11/11 [==============================] - 0s 12ms/step - loss: 56.1782 - mae: 5.3651 - val_loss: 75.2215 - val_mae: 5.7905\n",
      "Epoch 11/100\n",
      "11/11 [==============================] - 0s 15ms/step - loss: 51.8861 - mae: 5.0214 - val_loss: 77.4508 - val_mae: 6.9785\n",
      "Epoch 12/100\n",
      "11/11 [==============================] - 0s 14ms/step - loss: 52.5724 - mae: 5.1901 - val_loss: 75.1755 - val_mae: 6.4034\n",
      "Epoch 13/100\n",
      "11/11 [==============================] - 0s 17ms/step - loss: 49.0177 - mae: 4.8421 - val_loss: 77.5594 - val_mae: 7.1136\n",
      "Epoch 14/100\n",
      "11/11 [==============================] - 0s 24ms/step - loss: 52.2537 - mae: 5.1533 - val_loss: 88.4688 - val_mae: 8.2520\n",
      "Epoch 15/100\n",
      "11/11 [==============================] - 0s 16ms/step - loss: 60.2875 - mae: 5.8176 - val_loss: 74.6635 - val_mae: 7.0525\n",
      "Epoch 16/100\n",
      "11/11 [==============================] - 0s 19ms/step - loss: 49.1684 - mae: 4.9276 - val_loss: 72.6201 - val_mae: 6.8529\n",
      "Epoch 17/100\n",
      "11/11 [==============================] - 0s 17ms/step - loss: 52.7004 - mae: 5.2209 - val_loss: 74.9025 - val_mae: 5.5508\n",
      "Epoch 18/100\n",
      "11/11 [==============================] - 0s 17ms/step - loss: 49.5065 - mae: 4.9692 - val_loss: 86.0434 - val_mae: 5.6612\n",
      "Epoch 19/100\n",
      "11/11 [==============================] - 0s 14ms/step - loss: 51.8097 - mae: 5.1344 - val_loss: 69.9636 - val_mae: 5.9531\n",
      "Epoch 20/100\n",
      "11/11 [==============================] - 0s 15ms/step - loss: 47.5389 - mae: 4.7653 - val_loss: 69.6278 - val_mae: 6.6898\n",
      "Epoch 21/100\n",
      "11/11 [==============================] - 0s 22ms/step - loss: 44.1370 - mae: 4.6627 - val_loss: 67.8705 - val_mae: 5.9520\n",
      "Epoch 22/100\n",
      "11/11 [==============================] - 0s 20ms/step - loss: 42.2818 - mae: 4.4553 - val_loss: 67.3353 - val_mae: 6.2074\n",
      "Epoch 23/100\n",
      "11/11 [==============================] - 0s 14ms/step - loss: 43.0742 - mae: 4.5523 - val_loss: 66.7897 - val_mae: 6.3252\n",
      "Epoch 24/100\n",
      "11/11 [==============================] - 0s 13ms/step - loss: 42.6032 - mae: 4.5691 - val_loss: 66.9302 - val_mae: 6.2356\n",
      "Epoch 25/100\n",
      "11/11 [==============================] - 0s 12ms/step - loss: 43.2889 - mae: 4.7573 - val_loss: 79.6865 - val_mae: 5.5559\n",
      "Epoch 26/100\n",
      "11/11 [==============================] - 0s 13ms/step - loss: 44.5151 - mae: 4.8293 - val_loss: 67.9486 - val_mae: 5.6174\n",
      "Epoch 27/100\n",
      "11/11 [==============================] - 0s 13ms/step - loss: 42.2611 - mae: 4.5646 - val_loss: 66.2143 - val_mae: 5.8562\n",
      "Epoch 28/100\n",
      "11/11 [==============================] - 0s 16ms/step - loss: 40.1885 - mae: 4.3184 - val_loss: 65.3045 - val_mae: 6.0249\n",
      "Epoch 29/100\n",
      "11/11 [==============================] - 0s 14ms/step - loss: 39.7025 - mae: 4.4445 - val_loss: 66.8271 - val_mae: 5.8085\n",
      "Epoch 30/100\n",
      "11/11 [==============================] - 0s 14ms/step - loss: 39.3817 - mae: 4.3138 - val_loss: 65.0545 - val_mae: 6.2752\n",
      "Epoch 31/100\n",
      "11/11 [==============================] - 0s 13ms/step - loss: 38.6546 - mae: 4.3587 - val_loss: 63.1248 - val_mae: 6.2730\n",
      "Epoch 32/100\n",
      "11/11 [==============================] - 0s 12ms/step - loss: 41.5679 - mae: 4.7205 - val_loss: 67.8901 - val_mae: 5.5358\n",
      "Epoch 33/100\n",
      "11/11 [==============================] - 0s 12ms/step - loss: 41.2569 - mae: 4.6293 - val_loss: 80.6014 - val_mae: 5.6294\n",
      "Epoch 34/100\n",
      "11/11 [==============================] - 0s 22ms/step - loss: 46.7007 - mae: 4.8613 - val_loss: 64.0004 - val_mae: 6.4168\n",
      "Epoch 35/100\n",
      "11/11 [==============================] - 0s 30ms/step - loss: 38.2853 - mae: 4.3640 - val_loss: 67.8484 - val_mae: 5.6391\n",
      "Epoch 36/100\n",
      "11/11 [==============================] - 0s 18ms/step - loss: 39.0006 - mae: 4.4299 - val_loss: 61.8769 - val_mae: 5.7217\n",
      "Epoch 37/100\n",
      "11/11 [==============================] - 0s 15ms/step - loss: 35.9437 - mae: 4.1830 - val_loss: 64.8341 - val_mae: 6.6102\n",
      "Epoch 38/100\n",
      "11/11 [==============================] - 0s 16ms/step - loss: 38.0854 - mae: 4.4413 - val_loss: 65.6050 - val_mae: 5.6399\n",
      "Epoch 39/100\n",
      "11/11 [==============================] - 0s 15ms/step - loss: 34.3957 - mae: 4.0756 - val_loss: 63.3973 - val_mae: 5.8027\n",
      "Epoch 40/100\n",
      "11/11 [==============================] - 0s 15ms/step - loss: 34.6688 - mae: 4.0799 - val_loss: 64.0100 - val_mae: 5.6503\n",
      "Epoch 41/100\n",
      "11/11 [==============================] - 0s 12ms/step - loss: 34.5870 - mae: 4.1440 - val_loss: 72.0829 - val_mae: 5.5734\n",
      "Epoch 42/100\n",
      "11/11 [==============================] - 0s 13ms/step - loss: 35.2839 - mae: 4.0760 - val_loss: 63.7283 - val_mae: 6.5533\n",
      "Epoch 43/100\n",
      "11/11 [==============================] - 0s 15ms/step - loss: 36.5164 - mae: 4.1817 - val_loss: 60.8872 - val_mae: 6.0397\n",
      "Epoch 44/100\n",
      "11/11 [==============================] - 0s 13ms/step - loss: 38.7632 - mae: 4.5574 - val_loss: 77.4289 - val_mae: 5.5572\n",
      "Epoch 45/100\n",
      "11/11 [==============================] - 0s 13ms/step - loss: 38.8905 - mae: 4.4717 - val_loss: 67.8768 - val_mae: 5.6308\n",
      "Epoch 46/100\n",
      "11/11 [==============================] - 0s 16ms/step - loss: 34.0036 - mae: 4.1417 - val_loss: 64.9766 - val_mae: 6.9025\n",
      "Epoch 47/100\n",
      "11/11 [==============================] - 0s 17ms/step - loss: 36.7622 - mae: 4.4366 - val_loss: 72.9323 - val_mae: 5.5664\n",
      "Epoch 48/100\n",
      "11/11 [==============================] - 0s 15ms/step - loss: 33.6593 - mae: 4.0471 - val_loss: 62.8104 - val_mae: 6.1707\n",
      "Epoch 49/100\n",
      "11/11 [==============================] - 0s 14ms/step - loss: 38.1115 - mae: 4.5450 - val_loss: 71.2441 - val_mae: 5.5631\n",
      "Epoch 50/100\n",
      "11/11 [==============================] - 0s 12ms/step - loss: 35.4427 - mae: 4.2950 - val_loss: 64.0362 - val_mae: 5.7993\n",
      "Epoch 51/100\n",
      "11/11 [==============================] - 0s 16ms/step - loss: 33.9806 - mae: 4.2246 - val_loss: 71.1959 - val_mae: 5.7933\n",
      "Epoch 52/100\n",
      "11/11 [==============================] - 0s 14ms/step - loss: 32.3510 - mae: 4.0726 - val_loss: 65.7001 - val_mae: 5.7373\n",
      "Epoch 53/100\n",
      "11/11 [==============================] - 0s 13ms/step - loss: 33.6573 - mae: 4.1732 - val_loss: 76.3580 - val_mae: 5.7035\n",
      "Epoch 54/100\n",
      "11/11 [==============================] - 0s 14ms/step - loss: 38.3892 - mae: 4.4976 - val_loss: 70.6513 - val_mae: 5.6593\n",
      "Epoch 55/100\n",
      "11/11 [==============================] - 0s 16ms/step - loss: 35.5486 - mae: 4.1538 - val_loss: 65.5692 - val_mae: 6.1712\n",
      "Epoch 56/100\n",
      "11/11 [==============================] - 0s 19ms/step - loss: 36.1434 - mae: 4.4131 - val_loss: 76.8246 - val_mae: 5.6467\n",
      "Epoch 57/100\n",
      "11/11 [==============================] - 0s 17ms/step - loss: 31.2135 - mae: 3.9108 - val_loss: 67.4903 - val_mae: 5.8670\n",
      "Epoch 58/100\n",
      "11/11 [==============================] - 0s 16ms/step - loss: 31.9535 - mae: 4.1135 - val_loss: 64.0911 - val_mae: 5.9511\n",
      "Epoch 59/100\n",
      "11/11 [==============================] - 0s 14ms/step - loss: 30.0552 - mae: 3.8017 - val_loss: 62.0200 - val_mae: 6.2720\n",
      "Epoch 60/100\n",
      "11/11 [==============================] - 0s 13ms/step - loss: 30.2711 - mae: 3.9968 - val_loss: 74.8372 - val_mae: 5.6198\n",
      "Epoch 61/100\n"
     ]
    },
    {
     "name": "stdout",
     "output_type": "stream",
     "text": [
      "11/11 [==============================] - 0s 15ms/step - loss: 32.6471 - mae: 4.0004 - val_loss: 65.7901 - val_mae: 6.4652\n",
      "Epoch 62/100\n",
      "11/11 [==============================] - 0s 13ms/step - loss: 31.8727 - mae: 4.1500 - val_loss: 75.9565 - val_mae: 5.8007\n",
      "Epoch 63/100\n",
      "11/11 [==============================] - 0s 14ms/step - loss: 31.1361 - mae: 4.0174 - val_loss: 66.3303 - val_mae: 6.3186\n",
      "Epoch 64/100\n",
      "11/11 [==============================] - 0s 14ms/step - loss: 32.3796 - mae: 4.2486 - val_loss: 84.4663 - val_mae: 6.0297\n",
      "Epoch 65/100\n",
      "11/11 [==============================] - 0s 13ms/step - loss: 29.0778 - mae: 3.9169 - val_loss: 68.5697 - val_mae: 5.6402\n",
      "Epoch 66/100\n",
      "11/11 [==============================] - 0s 17ms/step - loss: 31.9116 - mae: 4.0354 - val_loss: 78.7192 - val_mae: 5.8422\n",
      "Epoch 67/100\n",
      "11/11 [==============================] - 0s 13ms/step - loss: 28.8926 - mae: 3.8972 - val_loss: 67.3198 - val_mae: 5.7090\n",
      "Epoch 68/100\n",
      "11/11 [==============================] - 0s 14ms/step - loss: 33.0718 - mae: 4.1422 - val_loss: 88.0105 - val_mae: 6.2369\n",
      "Epoch 69/100\n",
      "11/11 [==============================] - 0s 18ms/step - loss: 29.4153 - mae: 3.8402 - val_loss: 65.7785 - val_mae: 6.1790\n",
      "Epoch 70/100\n",
      "11/11 [==============================] - 0s 16ms/step - loss: 30.0683 - mae: 4.0483 - val_loss: 78.7123 - val_mae: 5.7081\n",
      "Epoch 71/100\n",
      "11/11 [==============================] - 0s 21ms/step - loss: 28.9451 - mae: 3.8262 - val_loss: 66.7500 - val_mae: 5.5525\n",
      "Epoch 72/100\n",
      "11/11 [==============================] - 0s 17ms/step - loss: 33.9267 - mae: 4.2367 - val_loss: 86.7538 - val_mae: 6.2401\n",
      "Epoch 73/100\n",
      "11/11 [==============================] - 0s 15ms/step - loss: 35.5287 - mae: 4.7057 - val_loss: 63.7335 - val_mae: 6.0937\n",
      "Epoch 74/100\n",
      "11/11 [==============================] - 0s 15ms/step - loss: 37.0336 - mae: 4.4899 - val_loss: 73.9508 - val_mae: 5.7214\n",
      "Epoch 75/100\n",
      "11/11 [==============================] - 0s 16ms/step - loss: 30.6535 - mae: 3.9917 - val_loss: 70.4699 - val_mae: 5.6299\n",
      "Epoch 76/100\n",
      "11/11 [==============================] - 0s 17ms/step - loss: 27.5717 - mae: 3.7052 - val_loss: 65.9159 - val_mae: 5.6128\n",
      "Epoch 77/100\n",
      "11/11 [==============================] - 0s 20ms/step - loss: 31.5240 - mae: 4.2037 - val_loss: 66.9229 - val_mae: 5.5608\n",
      "Epoch 78/100\n",
      "11/11 [==============================] - 0s 15ms/step - loss: 28.5884 - mae: 3.9126 - val_loss: 85.5513 - val_mae: 6.2794\n",
      "Epoch 79/100\n",
      "11/11 [==============================] - 0s 14ms/step - loss: 30.2146 - mae: 4.0450 - val_loss: 68.5050 - val_mae: 6.2954\n",
      "Epoch 80/100\n",
      "11/11 [==============================] - 0s 12ms/step - loss: 28.4557 - mae: 3.9279 - val_loss: 79.8186 - val_mae: 5.8856\n",
      "Epoch 81/100\n",
      "11/11 [==============================] - 0s 15ms/step - loss: 29.5159 - mae: 3.9916 - val_loss: 75.4499 - val_mae: 5.7516\n",
      "Epoch 82/100\n",
      "11/11 [==============================] - 0s 13ms/step - loss: 27.6372 - mae: 3.7476 - val_loss: 67.7623 - val_mae: 5.7881\n",
      "Epoch 83/100\n",
      "11/11 [==============================] - 0s 17ms/step - loss: 30.8090 - mae: 4.1533 - val_loss: 72.6024 - val_mae: 5.7407\n",
      "Epoch 84/100\n",
      "11/11 [==============================] - 0s 14ms/step - loss: 29.4811 - mae: 3.9366 - val_loss: 74.8444 - val_mae: 5.7560\n",
      "Epoch 85/100\n",
      "11/11 [==============================] - 0s 15ms/step - loss: 32.9548 - mae: 4.3048 - val_loss: 94.1711 - val_mae: 6.9132\n",
      "Epoch 86/100\n",
      "11/11 [==============================] - 0s 16ms/step - loss: 28.8211 - mae: 3.8088 - val_loss: 69.6411 - val_mae: 5.7683\n",
      "Epoch 87/100\n",
      "11/11 [==============================] - 0s 16ms/step - loss: 27.7075 - mae: 3.7748 - val_loss: 68.3763 - val_mae: 5.6222\n",
      "Epoch 88/100\n",
      "11/11 [==============================] - 0s 23ms/step - loss: 28.8853 - mae: 4.1300 - val_loss: 69.9530 - val_mae: 5.4943\n",
      "Epoch 89/100\n",
      "11/11 [==============================] - 0s 16ms/step - loss: 27.1084 - mae: 3.6140 - val_loss: 68.2601 - val_mae: 5.5923\n",
      "Epoch 90/100\n",
      "11/11 [==============================] - 0s 18ms/step - loss: 25.8009 - mae: 3.6846 - val_loss: 101.7362 - val_mae: 7.1105\n",
      "Epoch 91/100\n",
      "11/11 [==============================] - 0s 14ms/step - loss: 29.4144 - mae: 3.8406 - val_loss: 68.9192 - val_mae: 5.7081\n",
      "Epoch 92/100\n",
      "11/11 [==============================] - 0s 14ms/step - loss: 25.6014 - mae: 3.6014 - val_loss: 71.4674 - val_mae: 5.5738\n",
      "Epoch 93/100\n",
      "11/11 [==============================] - 0s 14ms/step - loss: 24.2694 - mae: 3.4682 - val_loss: 66.8200 - val_mae: 5.6646\n",
      "Epoch 94/100\n",
      "11/11 [==============================] - 0s 19ms/step - loss: 25.1182 - mae: 3.5484 - val_loss: 70.9740 - val_mae: 5.6933\n",
      "Epoch 95/100\n",
      "11/11 [==============================] - 0s 14ms/step - loss: 25.9586 - mae: 3.6709 - val_loss: 76.2650 - val_mae: 5.7158\n",
      "Epoch 96/100\n",
      "11/11 [==============================] - 0s 16ms/step - loss: 24.9644 - mae: 3.5998 - val_loss: 71.5529 - val_mae: 5.5206\n",
      "Epoch 97/100\n",
      "11/11 [==============================] - 0s 15ms/step - loss: 28.1892 - mae: 3.7959 - val_loss: 81.6165 - val_mae: 5.9017\n",
      "Epoch 98/100\n",
      "11/11 [==============================] - 0s 13ms/step - loss: 25.8875 - mae: 3.6457 - val_loss: 71.1632 - val_mae: 6.3407\n",
      "Epoch 99/100\n",
      "11/11 [==============================] - 0s 13ms/step - loss: 31.8016 - mae: 4.3460 - val_loss: 89.7452 - val_mae: 6.5528\n",
      "Epoch 100/100\n",
      "11/11 [==============================] - 0s 18ms/step - loss: 32.6984 - mae: 4.2940 - val_loss: 83.8094 - val_mae: 6.0284\n"
     ]
    }
   ],
   "source": [
    "history = model.fit(X_train, y_train, epochs=100, validation_split=0.05, verbose = 1)"
   ]
  },
  {
   "cell_type": "code",
   "execution_count": 10,
   "metadata": {
    "colab": {
     "base_uri": "https://localhost:8080/"
    },
    "id": "3uH8kFnx317C",
    "outputId": "2fb39e5a-7bc8-4ea2-d9af-d43dd3a0082f"
   },
   "outputs": [
    {
     "name": "stdout",
     "output_type": "stream",
     "text": [
      "5/5 [==============================] - 0s 4ms/step - loss: 29.1518 - mae: 3.8131\n",
      "Mean squared error on test data:  29.151775360107422\n",
      "Mean absolute error on test data:  3.8131003379821777\n"
     ]
    }
   ],
   "source": [
    "mse_nn, mae_nn = model.evaluate(X_test, y_test)\n",
    "\n",
    "print('Mean squared error on test data: ', mse_nn)\n",
    "print('Mean absolute error on test data: ', mae_nn)"
   ]
  },
  {
   "cell_type": "code",
   "execution_count": 11,
   "metadata": {
    "colab": {
     "base_uri": "https://localhost:8080/"
    },
    "id": "8swEKNyFyXdQ",
    "outputId": "18778981-1879-40a6-e2c7-69cb4d63babb"
   },
   "outputs": [
    {
     "name": "stdout",
     "output_type": "stream",
     "text": [
      "5/5 [==============================] - 0s 3ms/step\n"
     ]
    }
   ],
   "source": [
    "y_pred = model.predict(X_test)"
   ]
  },
  {
   "cell_type": "code",
   "execution_count": 12,
   "metadata": {
    "colab": {
     "base_uri": "https://localhost:8080/"
    },
    "id": "1Ai5cqioyfpK",
    "outputId": "9a83cdae-c5cd-431c-e609-058f5e4dd94e"
   },
   "outputs": [
    {
     "data": {
      "text/plain": [
       "5.399238284144388"
      ]
     },
     "execution_count": 12,
     "metadata": {},
     "output_type": "execute_result"
    }
   ],
   "source": [
    "mse = mean_squared_error(y_test, y_pred)**(0.5)\n",
    "mse"
   ]
  },
  {
   "cell_type": "code",
   "execution_count": 13,
   "metadata": {
    "colab": {
     "base_uri": "https://localhost:8080/"
    },
    "id": "c9uAYbStz2nY",
    "outputId": "b0390233-1364-4a12-826a-509e4b22c266"
   },
   "outputs": [
    {
     "name": "stdout",
     "output_type": "stream",
     "text": [
      "1/1 [==============================] - 0s 215ms/step\n",
      "Predicted house price: 29.891792\n"
     ]
    }
   ],
   "source": [
    "new_input = np.array([[0.006,18.0,2.3,0.0,0.53,6.5,65.2,4.0,1.0,296.0,15.0,396.9,4.98]])\n",
    "predictions = model.predict(new_input)\n",
    "print(\"Predicted house price:\", predictions[0][0])"
   ]
  }
 ],
 "metadata": {
  "colab": {
   "provenance": []
  },
  "kernelspec": {
   "display_name": "Python 3 (ipykernel)",
   "language": "python",
   "name": "python3"
  },
  "language_info": {
   "codemirror_mode": {
    "name": "ipython",
    "version": 3
   },
   "file_extension": ".py",
   "mimetype": "text/x-python",
   "name": "python",
   "nbconvert_exporter": "python",
   "pygments_lexer": "ipython3",
   "version": "3.11.0"
  }
 },
 "nbformat": 4,
 "nbformat_minor": 1
}
