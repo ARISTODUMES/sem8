{
 "cells": [
  {
   "cell_type": "code",
   "execution_count": 5,
   "id": "8e37f121",
   "metadata": {
    "executionInfo": {
     "elapsed": 3151,
     "status": "ok",
     "timestamp": 1684696700568,
     "user": {
      "displayName": "Anuranjan Pandey",
      "userId": "05889048362703875405"
     },
     "user_tz": -330
    },
    "id": "8e37f121"
   },
   "outputs": [],
   "source": [
    "import numpy as np\n",
    "from keras import models, layers, optimizers\n",
    "from keras.preprocessing.text import Tokenizer\n",
    "# from keras.preprocessing.sequence import pad_sequences\n",
    "from tensorflow.keras.utils import pad_sequences, to_categorical\n",
    "import pandas as pd\n",
    "from sklearn import preprocessing\n",
    "# Load the data\n",
    "df=pd.read_csv(\"IMDB_Dataset.csv\")\n",
    "\n"
   ]
  },
  {
   "cell_type": "code",
   "execution_count": 6,
   "id": "888b45f6",
   "metadata": {
    "colab": {
     "base_uri": "https://localhost:8080/"
    },
    "executionInfo": {
     "elapsed": 407,
     "status": "ok",
     "timestamp": 1684697170665,
     "user": {
      "displayName": "Anuranjan Pandey",
      "userId": "05889048362703875405"
     },
     "user_tz": -330
    },
    "id": "888b45f6",
    "outputId": "e7654110-ed0e-45ae-9e27-07af0e0147dd"
   },
   "outputs": [
    {
     "name": "stdout",
     "output_type": "stream",
     "text": [
      "                                                  review sentiment\n",
      "13920  Kudos to Fawcett to taking on roles that, at t...  positive\n",
      "23439  If you are a fan of early Duke movies, this Lo...  positive\n",
      "11851  I'd love to give this movie a 10/10, but in it...  positive\n",
      "8278   The credits at the end read \"ALL directed by S...  negative\n",
      "31258  This young filmmaker has a talent for capturin...  positive\n",
      "...                                                  ...       ...\n",
      "38608  I just got back from a screening a couple of h...  positive\n",
      "48009  OK, I don't want to upset anyone who enjoyed t...  negative\n",
      "9184   i just watched the movie i was afraid it's gon...  positive\n",
      "49448  There are few films that leave me with the fee...  positive\n",
      "11381  I watched this movie with my boyfriend, an avi...  negative\n",
      "\n",
      "[40000 rows x 2 columns]\n",
      "                                                  review sentiment\n",
      "20     After the success of Die Hard and it's sequels...  positive\n",
      "22     What an absolutely stunning movie, if you have...  positive\n",
      "28     This movie was so frustrating. Everything seem...  negative\n",
      "32     My first exposure to the Templarios & not a go...  negative\n",
      "49     Average (and surprisingly tame) Fulci giallo w...  negative\n",
      "...                                                  ...       ...\n",
      "49981  And I repeat, please do not see this movie! Th...  negative\n",
      "49986  This movie is a disgrace to the Major League F...  negative\n",
      "49989  I got this one a few weeks ago and love it! It...  positive\n",
      "49994  This is your typical junk comedy.<br /><br />T...  negative\n",
      "49998  I'm going to have to disagree with the previou...  negative\n",
      "\n",
      "[10000 rows x 2 columns]\n"
     ]
    }
   ],
   "source": [
    "train_df = df.sample(frac=0.8, random_state=25)\n",
    "test_df = df.drop(train_df.index)\n",
    "print(train_df)\n",
    "print(test_df)"
   ]
  },
  {
   "cell_type": "code",
   "execution_count": null,
   "id": "9e446b7a",
   "metadata": {
    "executionInfo": {
     "elapsed": 17240,
     "status": "ok",
     "timestamp": 1684697200321,
     "user": {
      "displayName": "Anuranjan Pandey",
      "userId": "05889048362703875405"
     },
     "user_tz": -330
    },
    "id": "9e446b7a"
   },
   "outputs": [],
   "source": [
    "# Tokenize the text data\n",
    "tokenizer = Tokenizer(num_words=10000)\n",
    "tokenizer.fit_on_texts(train_df['review'].tolist())\n",
    "\n",
    "# Convert the text data to sequences of integers\n",
    "train_sequences = tokenizer.texts_to_sequences(train_df['review'].tolist())\n",
    "test_sequences = tokenizer.texts_to_sequences(test_df['review'].tolist())\n",
    "\n",
    "# Pad the sequences to a fixed length\n",
    "max_length = 100\n",
    "train_data = pad_sequences(train_sequences, maxlen=max_length)\n",
    "test_data = pad_sequences(test_sequences, maxlen=max_length)\n",
    "\n",
    "# Convert the labels to categorical\n",
    "label_encoder = preprocessing.LabelEncoder()\n",
    "train_labels= label_encoder.fit_transform(train_df['sentiment'])\n",
    "#train_labels = to_categorical(train_df['sentiment'])\n"
   ]
  },
  {
   "cell_type": "code",
   "execution_count": null,
   "id": "dbe642c6",
   "metadata": {
    "executionInfo": {
     "elapsed": 421,
     "status": "ok",
     "timestamp": 1684697957582,
     "user": {
      "displayName": "Anuranjan Pandey",
      "userId": "05889048362703875405"
     },
     "user_tz": -330
    },
    "id": "dbe642c6"
   },
   "outputs": [],
   "source": [
    "model = models.Sequential()\n",
    "model.add(layers.Embedding(10000, 64, input_length=max_length))\n",
    "model.add(layers.Flatten())\n",
    "model.add(layers.Dropout(0.2)),\n",
    "model.add(layers.Dense(32, activation='relu'))\n",
    "model.add(layers.Dropout(0.5))\n",
    "model.add(layers.Dense(1, activation='sigmoid'))\n"
   ]
  },
  {
   "cell_type": "code",
   "execution_count": null,
   "id": "727968fd",
   "metadata": {
    "executionInfo": {
     "elapsed": 2,
     "status": "ok",
     "timestamp": 1684697959258,
     "user": {
      "displayName": "Anuranjan Pandey",
      "userId": "05889048362703875405"
     },
     "user_tz": -330
    },
    "id": "727968fd"
   },
   "outputs": [],
   "source": [
    " model.compile(optimizer='adam',  loss='binary_crossentropy', metrics=['accuracy'])\n"
   ]
  },
  {
   "cell_type": "code",
   "execution_count": null,
   "id": "57876b00",
   "metadata": {
    "colab": {
     "base_uri": "https://localhost:8080/"
    },
    "executionInfo": {
     "elapsed": 90640,
     "status": "ok",
     "timestamp": 1684698062528,
     "user": {
      "displayName": "Anuranjan Pandey",
      "userId": "05889048362703875405"
     },
     "user_tz": -330
    },
    "id": "57876b00",
    "outputId": "54b15a72-e432-403a-fdf1-8ff26ed6e3ed"
   },
   "outputs": [],
   "source": [
    "history = model.fit(train_data, train_labels, epochs=5, batch_size=32, validation_split=0.2)\n"
   ]
  },
  {
   "cell_type": "code",
   "execution_count": null,
   "id": "68bd4d32",
   "metadata": {
    "colab": {
     "base_uri": "https://localhost:8080/"
    },
    "executionInfo": {
     "elapsed": 1760,
     "status": "ok",
     "timestamp": 1684698235847,
     "user": {
      "displayName": "Anuranjan Pandey",
      "userId": "05889048362703875405"
     },
     "user_tz": -330
    },
    "id": "68bd4d32",
    "outputId": "0ffed228-3dca-4ae6-81ad-94d17cf4bdbc"
   },
   "outputs": [],
   "source": [
    "test_labels= label_encoder.fit_transform(test_df['sentiment'])\n",
    "print(test_labels[2])\n",
    "#test_labels = to_categorical(test_df['sentiment'])\n",
    "test_loss, test_acc = model.evaluate(test_data, test_labels)\n",
    "print('Test accuracy:', test_acc)\n"
   ]
  },
  {
   "cell_type": "code",
   "execution_count": null,
   "id": "34236bd0",
   "metadata": {
    "colab": {
     "base_uri": "https://localhost:8080/",
     "height": 449
    },
    "executionInfo": {
     "elapsed": 2206,
     "status": "ok",
     "timestamp": 1684698250736,
     "user": {
      "displayName": "Anuranjan Pandey",
      "userId": "05889048362703875405"
     },
     "user_tz": -330
    },
    "id": "34236bd0",
    "outputId": "a19ad91b-0a9c-4a39-cc31-e5be984abdc4"
   },
   "outputs": [],
   "source": [
    "import matplotlib.pyplot as plt\n",
    "plt.plot(history.history['loss'], label='Training Loss')\n",
    "plt.plot(history.history['val_loss'], label='Validation Loss')\n",
    "plt.xlabel('Epoch')\n",
    "plt.ylabel('Loss')\n",
    "plt.legend()\n",
    "plt.show()\n"
   ]
  },
  {
   "cell_type": "code",
   "execution_count": null,
   "id": "6574d9f1",
   "metadata": {
    "colab": {
     "base_uri": "https://localhost:8080/",
     "height": 450
    },
    "executionInfo": {
     "elapsed": 10,
     "status": "ok",
     "timestamp": 1684698250737,
     "user": {
      "displayName": "Anuranjan Pandey",
      "userId": "05889048362703875405"
     },
     "user_tz": -330
    },
    "id": "6574d9f1",
    "outputId": "a0af0991-3791-42be-f8f9-f731282d1d05"
   },
   "outputs": [],
   "source": [
    "plt.plot(history.history['accuracy'], label='Training Accuracy')\n",
    "plt.plot(history.history['val_accuracy'], label='Validation Accuracy')\n",
    "plt.xlabel('Epoch')\n",
    "plt.ylabel('Accuracy')\n",
    "plt.legend()\n",
    "plt.show()"
   ]
  },
  {
   "cell_type": "code",
   "execution_count": null,
   "id": "afafc421",
   "metadata": {
    "colab": {
     "base_uri": "https://localhost:8080/"
    },
    "executionInfo": {
     "elapsed": 1370,
     "status": "ok",
     "timestamp": 1684697436760,
     "user": {
      "displayName": "Anuranjan Pandey",
      "userId": "05889048362703875405"
     },
     "user_tz": -330
    },
    "id": "afafc421",
    "outputId": "9aed5fd9-5b5a-4cc8-af15-6839416c0279"
   },
   "outputs": [],
   "source": [
    "predictions = model.predict(test_data)"
   ]
  },
  {
   "cell_type": "code",
   "execution_count": null,
   "id": "779b4f0d",
   "metadata": {
    "executionInfo": {
     "elapsed": 4746,
     "status": "ok",
     "timestamp": 1684697441503,
     "user": {
      "displayName": "Anuranjan Pandey",
      "userId": "05889048362703875405"
     },
     "user_tz": -330
    },
    "id": "779b4f0d"
   },
   "outputs": [],
   "source": [
    "text = tokenizer.sequences_to_texts(test_data)"
   ]
  },
  {
   "cell_type": "code",
   "execution_count": null,
   "id": "4095797f",
   "metadata": {
    "executionInfo": {
     "elapsed": 34,
     "status": "ok",
     "timestamp": 1684697441504,
     "user": {
      "displayName": "Anuranjan Pandey",
      "userId": "05889048362703875405"
     },
     "user_tz": -330
    },
    "id": "4095797f"
   },
   "outputs": [],
   "source": [
    "pred = np.zeros(len(predictions))\n",
    "for i, score in enumerate(predictions):\n",
    "    pred[i] = np.round(score)\n",
    "    \n",
    "predicted_sentiments = ['positive' if label == 1 else 'negative' for label in pred]    "
   ]
  },
  {
   "cell_type": "code",
   "execution_count": null,
   "id": "3a7f7236",
   "metadata": {
    "colab": {
     "base_uri": "https://localhost:8080/"
    },
    "executionInfo": {
     "elapsed": 6,
     "status": "ok",
     "timestamp": 1684697826668,
     "user": {
      "displayName": "Anuranjan Pandey",
      "userId": "05889048362703875405"
     },
     "user_tz": -330
    },
    "id": "3a7f7236",
    "outputId": "48f0c324-49df-4b19-e217-342c2f1a06a6"
   },
   "outputs": [],
   "source": [
    "print(f\"Review text: {text[5]}\\n\")\n",
    "print(f\"Review : {predicted_sentiments[5]}\")\n"
   ]
  },
  {
   "cell_type": "code",
   "execution_count": null,
   "id": "fe8b6d6a",
   "metadata": {
    "id": "fe8b6d6a"
   },
   "outputs": [],
   "source": []
  }
 ],
 "metadata": {
  "colab": {
   "provenance": []
  },
  "kernelspec": {
   "display_name": "Python 3 (ipykernel)",
   "language": "python",
   "name": "python3"
  },
  "language_info": {
   "codemirror_mode": {
    "name": "ipython",
    "version": 3
   },
   "file_extension": ".py",
   "mimetype": "text/x-python",
   "name": "python",
   "nbconvert_exporter": "python",
   "pygments_lexer": "ipython3",
   "version": "3.11.0"
  }
 },
 "nbformat": 4,
 "nbformat_minor": 5
}
